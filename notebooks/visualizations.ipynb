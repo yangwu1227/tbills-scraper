{
 "cells": [
  {
   "cell_type": "code",
   "execution_count": 17,
   "id": "23a84879",
   "metadata": {},
   "outputs": [],
   "source": [
    "%reload_ext autoreload\n",
    "%autoreload 2\n",
    "\n",
    "import sys\n",
    "from pathlib import Path\n",
    "\n",
    "import numpy as np\n",
    "import numpy.typing as npt\n",
    "import polars as pl\n",
    "\n",
    "sys.path.append(str(Path.cwd().parent))\n",
    "from app.plot_utils import plot_spreads_heatmap, plot_yield_curve_spline"
   ]
  },
  {
   "cell_type": "markdown",
   "id": "e9bd9b41",
   "metadata": {},
   "source": [
    "## Data"
   ]
  },
  {
   "cell_type": "code",
   "execution_count": 18,
   "id": "f375a69d",
   "metadata": {},
   "outputs": [
    {
     "data": {
      "text/html": [
       "<div><style>\n",
       ".dataframe > thead > tr,\n",
       ".dataframe > tbody > tr {\n",
       "  text-align: right;\n",
       "  white-space: pre-wrap;\n",
       "}\n",
       "</style>\n",
       "<small>shape: (7, 4)</small><table border=\"1\" class=\"dataframe\"><thead><tr><th>date</th><th>maturity</th><th>yield_pct</th><th>scrape_timestamp</th></tr><tr><td>str</td><td>i64</td><td>f64</td><td>str</td></tr></thead><tbody><tr><td>&quot;2025-08-08&quot;</td><td>4</td><td>4.36</td><td>&quot;2025-08-11 02:17:18.162051 UTC&quot;</td></tr><tr><td>&quot;2025-08-08&quot;</td><td>6</td><td>4.34</td><td>&quot;2025-08-11 02:17:18.162051 UTC&quot;</td></tr><tr><td>&quot;2025-08-08&quot;</td><td>8</td><td>4.32</td><td>&quot;2025-08-11 02:17:18.162051 UTC&quot;</td></tr><tr><td>&quot;2025-08-08&quot;</td><td>13</td><td>4.24</td><td>&quot;2025-08-11 02:17:18.162051 UTC&quot;</td></tr><tr><td>&quot;2025-08-08&quot;</td><td>17</td><td>4.22</td><td>&quot;2025-08-11 02:17:18.162051 UTC&quot;</td></tr><tr><td>&quot;2025-08-08&quot;</td><td>26</td><td>4.13</td><td>&quot;2025-08-11 02:17:18.162051 UTC&quot;</td></tr><tr><td>&quot;2025-08-08&quot;</td><td>52</td><td>3.92</td><td>&quot;2025-08-11 02:17:18.162051 UTC&quot;</td></tr></tbody></table></div>"
      ],
      "text/plain": [
       "shape: (7, 4)\n",
       "┌────────────┬──────────┬───────────┬────────────────────────────────┐\n",
       "│ date       ┆ maturity ┆ yield_pct ┆ scrape_timestamp               │\n",
       "│ ---        ┆ ---      ┆ ---       ┆ ---                            │\n",
       "│ str        ┆ i64      ┆ f64       ┆ str                            │\n",
       "╞════════════╪══════════╪═══════════╪════════════════════════════════╡\n",
       "│ 2025-08-08 ┆ 4        ┆ 4.36      ┆ 2025-08-11 02:17:18.162051 UTC │\n",
       "│ 2025-08-08 ┆ 6        ┆ 4.34      ┆ 2025-08-11 02:17:18.162051 UTC │\n",
       "│ 2025-08-08 ┆ 8        ┆ 4.32      ┆ 2025-08-11 02:17:18.162051 UTC │\n",
       "│ 2025-08-08 ┆ 13       ┆ 4.24      ┆ 2025-08-11 02:17:18.162051 UTC │\n",
       "│ 2025-08-08 ┆ 17       ┆ 4.22      ┆ 2025-08-11 02:17:18.162051 UTC │\n",
       "│ 2025-08-08 ┆ 26       ┆ 4.13      ┆ 2025-08-11 02:17:18.162051 UTC │\n",
       "│ 2025-08-08 ┆ 52       ┆ 3.92      ┆ 2025-08-11 02:17:18.162051 UTC │\n",
       "└────────────┴──────────┴───────────┴────────────────────────────────┘"
      ]
     },
     "execution_count": 18,
     "metadata": {},
     "output_type": "execute_result"
    }
   ],
   "source": [
    "data: pl.DataFrame = pl.from_dict(\n",
    "    {\n",
    "        \"date\": [\"2025-08-08\"] * 7,\n",
    "        \"maturity\": [4, 6, 8, 13, 17, 26, 52],\n",
    "        \"yield_pct\": [4.36, 4.34, 4.32, 4.24, 4.22, 4.13, 3.92],\n",
    "        \"scrape_timestamp\": [\"2025-08-11 02:17:18.162051 UTC\"] * 7,\n",
    "    }\n",
    ")\n",
    "\n",
    "maturities: npt.NDArray[np.float64] = data[\"maturity\"].to_numpy()\n",
    "yields: npt.NDArray[np.float64] = data[\"yield_pct\"].to_numpy()\n",
    "\n",
    "data"
   ]
  },
  {
   "cell_type": "markdown",
   "id": "d06d960d",
   "metadata": {},
   "source": [
    "## Yield Curve Cubic Spline"
   ]
  },
  {
   "cell_type": "code",
   "execution_count": null,
   "id": "b0e49def",
   "metadata": {},
   "outputs": [
    {
     "data": {
      "application/vnd.plotly.v1+json": {
       "config": {
        "plotlyServerURL": "https://plot.ly"
       },
       "data": [
        {
         "marker": {
          "color": "red",
          "line": {
           "color": "black",
           "width": 1
          },
          "size": 8
         },
         "mode": "markers",
         "name": "Yield",
         "showlegend": false,
         "type": "scatter",
         "x": {
          "bdata": "BAYIDREaNA==",
          "dtype": "i1"
         },
         "y": {
          "bdata": "cT0K16NwEUBcj8L1KFwRQEjhehSuRxFA9ihcj8L1EEDhehSuR+EQQIXrUbgehRBAXI/C9ShcD0A=",
          "dtype": "f8"
         }
        },
        {
         "line": {
          "color": "red",
          "width": 2
         },
         "mode": "lines",
         "name": "Spline Fit",
         "showlegend": false,
         "type": "scatter",
         "x": {
          "bdata": "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",
          "dtype": "f8"
         },
         "y": {
          "bdata": "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",
          "dtype": "f8"
         }
        }
       ],
       "layout": {
        "margin": {
         "b": 60,
         "l": 70,
         "r": 20,
         "t": 80
        },
        "template": {
         "data": {
          "bar": [
           {
            "error_x": {
             "color": "#2a3f5f"
            },
            "error_y": {
             "color": "#2a3f5f"
            },
            "marker": {
             "line": {
              "color": "white",
              "width": 0.5
             },
             "pattern": {
              "fillmode": "overlay",
              "size": 10,
              "solidity": 0.2
             }
            },
            "type": "bar"
           }
          ],
          "barpolar": [
           {
            "marker": {
             "line": {
              "color": "white",
              "width": 0.5
             },
             "pattern": {
              "fillmode": "overlay",
              "size": 10,
              "solidity": 0.2
             }
            },
            "type": "barpolar"
           }
          ],
          "carpet": [
           {
            "aaxis": {
             "endlinecolor": "#2a3f5f",
             "gridcolor": "#C8D4E3",
             "linecolor": "#C8D4E3",
             "minorgridcolor": "#C8D4E3",
             "startlinecolor": "#2a3f5f"
            },
            "baxis": {
             "endlinecolor": "#2a3f5f",
             "gridcolor": "#C8D4E3",
             "linecolor": "#C8D4E3",
             "minorgridcolor": "#C8D4E3",
             "startlinecolor": "#2a3f5f"
            },
            "type": "carpet"
           }
          ],
          "choropleth": [
           {
            "colorbar": {
             "outlinewidth": 0,
             "ticks": ""
            },
            "type": "choropleth"
           }
          ],
          "contour": [
           {
            "colorbar": {
             "outlinewidth": 0,
             "ticks": ""
            },
            "colorscale": [
             [
              0,
              "#0d0887"
             ],
             [
              0.1111111111111111,
              "#46039f"
             ],
             [
              0.2222222222222222,
              "#7201a8"
             ],
             [
              0.3333333333333333,
              "#9c179e"
             ],
             [
              0.4444444444444444,
              "#bd3786"
             ],
             [
              0.5555555555555556,
              "#d8576b"
             ],
             [
              0.6666666666666666,
              "#ed7953"
             ],
             [
              0.7777777777777778,
              "#fb9f3a"
             ],
             [
              0.8888888888888888,
              "#fdca26"
             ],
             [
              1,
              "#f0f921"
             ]
            ],
            "type": "contour"
           }
          ],
          "contourcarpet": [
           {
            "colorbar": {
             "outlinewidth": 0,
             "ticks": ""
            },
            "type": "contourcarpet"
           }
          ],
          "heatmap": [
           {
            "colorbar": {
             "outlinewidth": 0,
             "ticks": ""
            },
            "colorscale": [
             [
              0,
              "#0d0887"
             ],
             [
              0.1111111111111111,
              "#46039f"
             ],
             [
              0.2222222222222222,
              "#7201a8"
             ],
             [
              0.3333333333333333,
              "#9c179e"
             ],
             [
              0.4444444444444444,
              "#bd3786"
             ],
             [
              0.5555555555555556,
              "#d8576b"
             ],
             [
              0.6666666666666666,
              "#ed7953"
             ],
             [
              0.7777777777777778,
              "#fb9f3a"
             ],
             [
              0.8888888888888888,
              "#fdca26"
             ],
             [
              1,
              "#f0f921"
             ]
            ],
            "type": "heatmap"
           }
          ],
          "histogram": [
           {
            "marker": {
             "pattern": {
              "fillmode": "overlay",
              "size": 10,
              "solidity": 0.2
             }
            },
            "type": "histogram"
           }
          ],
          "histogram2d": [
           {
            "colorbar": {
             "outlinewidth": 0,
             "ticks": ""
            },
            "colorscale": [
             [
              0,
              "#0d0887"
             ],
             [
              0.1111111111111111,
              "#46039f"
             ],
             [
              0.2222222222222222,
              "#7201a8"
             ],
             [
              0.3333333333333333,
              "#9c179e"
             ],
             [
              0.4444444444444444,
              "#bd3786"
             ],
             [
              0.5555555555555556,
              "#d8576b"
             ],
             [
              0.6666666666666666,
              "#ed7953"
             ],
             [
              0.7777777777777778,
              "#fb9f3a"
             ],
             [
              0.8888888888888888,
              "#fdca26"
             ],
             [
              1,
              "#f0f921"
             ]
            ],
            "type": "histogram2d"
           }
          ],
          "histogram2dcontour": [
           {
            "colorbar": {
             "outlinewidth": 0,
             "ticks": ""
            },
            "colorscale": [
             [
              0,
              "#0d0887"
             ],
             [
              0.1111111111111111,
              "#46039f"
             ],
             [
              0.2222222222222222,
              "#7201a8"
             ],
             [
              0.3333333333333333,
              "#9c179e"
             ],
             [
              0.4444444444444444,
              "#bd3786"
             ],
             [
              0.5555555555555556,
              "#d8576b"
             ],
             [
              0.6666666666666666,
              "#ed7953"
             ],
             [
              0.7777777777777778,
              "#fb9f3a"
             ],
             [
              0.8888888888888888,
              "#fdca26"
             ],
             [
              1,
              "#f0f921"
             ]
            ],
            "type": "histogram2dcontour"
           }
          ],
          "mesh3d": [
           {
            "colorbar": {
             "outlinewidth": 0,
             "ticks": ""
            },
            "type": "mesh3d"
           }
          ],
          "parcoords": [
           {
            "line": {
             "colorbar": {
              "outlinewidth": 0,
              "ticks": ""
             }
            },
            "type": "parcoords"
           }
          ],
          "pie": [
           {
            "automargin": true,
            "type": "pie"
           }
          ],
          "scatter": [
           {
            "fillpattern": {
             "fillmode": "overlay",
             "size": 10,
             "solidity": 0.2
            },
            "type": "scatter"
           }
          ],
          "scatter3d": [
           {
            "line": {
             "colorbar": {
              "outlinewidth": 0,
              "ticks": ""
             }
            },
            "marker": {
             "colorbar": {
              "outlinewidth": 0,
              "ticks": ""
             }
            },
            "type": "scatter3d"
           }
          ],
          "scattercarpet": [
           {
            "marker": {
             "colorbar": {
              "outlinewidth": 0,
              "ticks": ""
             }
            },
            "type": "scattercarpet"
           }
          ],
          "scattergeo": [
           {
            "marker": {
             "colorbar": {
              "outlinewidth": 0,
              "ticks": ""
             }
            },
            "type": "scattergeo"
           }
          ],
          "scattergl": [
           {
            "marker": {
             "colorbar": {
              "outlinewidth": 0,
              "ticks": ""
             }
            },
            "type": "scattergl"
           }
          ],
          "scattermap": [
           {
            "marker": {
             "colorbar": {
              "outlinewidth": 0,
              "ticks": ""
             }
            },
            "type": "scattermap"
           }
          ],
          "scattermapbox": [
           {
            "marker": {
             "colorbar": {
              "outlinewidth": 0,
              "ticks": ""
             }
            },
            "type": "scattermapbox"
           }
          ],
          "scatterpolar": [
           {
            "marker": {
             "colorbar": {
              "outlinewidth": 0,
              "ticks": ""
             }
            },
            "type": "scatterpolar"
           }
          ],
          "scatterpolargl": [
           {
            "marker": {
             "colorbar": {
              "outlinewidth": 0,
              "ticks": ""
             }
            },
            "type": "scatterpolargl"
           }
          ],
          "scatterternary": [
           {
            "marker": {
             "colorbar": {
              "outlinewidth": 0,
              "ticks": ""
             }
            },
            "type": "scatterternary"
           }
          ],
          "surface": [
           {
            "colorbar": {
             "outlinewidth": 0,
             "ticks": ""
            },
            "colorscale": [
             [
              0,
              "#0d0887"
             ],
             [
              0.1111111111111111,
              "#46039f"
             ],
             [
              0.2222222222222222,
              "#7201a8"
             ],
             [
              0.3333333333333333,
              "#9c179e"
             ],
             [
              0.4444444444444444,
              "#bd3786"
             ],
             [
              0.5555555555555556,
              "#d8576b"
             ],
             [
              0.6666666666666666,
              "#ed7953"
             ],
             [
              0.7777777777777778,
              "#fb9f3a"
             ],
             [
              0.8888888888888888,
              "#fdca26"
             ],
             [
              1,
              "#f0f921"
             ]
            ],
            "type": "surface"
           }
          ],
          "table": [
           {
            "cells": {
             "fill": {
              "color": "#EBF0F8"
             },
             "line": {
              "color": "white"
             }
            },
            "header": {
             "fill": {
              "color": "#C8D4E3"
             },
             "line": {
              "color": "white"
             }
            },
            "type": "table"
           }
          ]
         },
         "layout": {
          "annotationdefaults": {
           "arrowcolor": "#2a3f5f",
           "arrowhead": 0,
           "arrowwidth": 1
          },
          "autotypenumbers": "strict",
          "coloraxis": {
           "colorbar": {
            "outlinewidth": 0,
            "ticks": ""
           }
          },
          "colorscale": {
           "diverging": [
            [
             0,
             "#8e0152"
            ],
            [
             0.1,
             "#c51b7d"
            ],
            [
             0.2,
             "#de77ae"
            ],
            [
             0.3,
             "#f1b6da"
            ],
            [
             0.4,
             "#fde0ef"
            ],
            [
             0.5,
             "#f7f7f7"
            ],
            [
             0.6,
             "#e6f5d0"
            ],
            [
             0.7,
             "#b8e186"
            ],
            [
             0.8,
             "#7fbc41"
            ],
            [
             0.9,
             "#4d9221"
            ],
            [
             1,
             "#276419"
            ]
           ],
           "sequential": [
            [
             0,
             "#0d0887"
            ],
            [
             0.1111111111111111,
             "#46039f"
            ],
            [
             0.2222222222222222,
             "#7201a8"
            ],
            [
             0.3333333333333333,
             "#9c179e"
            ],
            [
             0.4444444444444444,
             "#bd3786"
            ],
            [
             0.5555555555555556,
             "#d8576b"
            ],
            [
             0.6666666666666666,
             "#ed7953"
            ],
            [
             0.7777777777777778,
             "#fb9f3a"
            ],
            [
             0.8888888888888888,
             "#fdca26"
            ],
            [
             1,
             "#f0f921"
            ]
           ],
           "sequentialminus": [
            [
             0,
             "#0d0887"
            ],
            [
             0.1111111111111111,
             "#46039f"
            ],
            [
             0.2222222222222222,
             "#7201a8"
            ],
            [
             0.3333333333333333,
             "#9c179e"
            ],
            [
             0.4444444444444444,
             "#bd3786"
            ],
            [
             0.5555555555555556,
             "#d8576b"
            ],
            [
             0.6666666666666666,
             "#ed7953"
            ],
            [
             0.7777777777777778,
             "#fb9f3a"
            ],
            [
             0.8888888888888888,
             "#fdca26"
            ],
            [
             1,
             "#f0f921"
            ]
           ]
          },
          "colorway": [
           "#636efa",
           "#EF553B",
           "#00cc96",
           "#ab63fa",
           "#FFA15A",
           "#19d3f3",
           "#FF6692",
           "#B6E880",
           "#FF97FF",
           "#FECB52"
          ],
          "font": {
           "color": "#2a3f5f"
          },
          "geo": {
           "bgcolor": "white",
           "lakecolor": "white",
           "landcolor": "white",
           "showlakes": true,
           "showland": true,
           "subunitcolor": "#C8D4E3"
          },
          "hoverlabel": {
           "align": "left"
          },
          "hovermode": "closest",
          "mapbox": {
           "style": "light"
          },
          "paper_bgcolor": "white",
          "plot_bgcolor": "white",
          "polar": {
           "angularaxis": {
            "gridcolor": "#EBF0F8",
            "linecolor": "#EBF0F8",
            "ticks": ""
           },
           "bgcolor": "white",
           "radialaxis": {
            "gridcolor": "#EBF0F8",
            "linecolor": "#EBF0F8",
            "ticks": ""
           }
          },
          "scene": {
           "xaxis": {
            "backgroundcolor": "white",
            "gridcolor": "#DFE8F3",
            "gridwidth": 2,
            "linecolor": "#EBF0F8",
            "showbackground": true,
            "ticks": "",
            "zerolinecolor": "#EBF0F8"
           },
           "yaxis": {
            "backgroundcolor": "white",
            "gridcolor": "#DFE8F3",
            "gridwidth": 2,
            "linecolor": "#EBF0F8",
            "showbackground": true,
            "ticks": "",
            "zerolinecolor": "#EBF0F8"
           },
           "zaxis": {
            "backgroundcolor": "white",
            "gridcolor": "#DFE8F3",
            "gridwidth": 2,
            "linecolor": "#EBF0F8",
            "showbackground": true,
            "ticks": "",
            "zerolinecolor": "#EBF0F8"
           }
          },
          "shapedefaults": {
           "line": {
            "color": "#2a3f5f"
           }
          },
          "ternary": {
           "aaxis": {
            "gridcolor": "#DFE8F3",
            "linecolor": "#A2B1C6",
            "ticks": ""
           },
           "baxis": {
            "gridcolor": "#DFE8F3",
            "linecolor": "#A2B1C6",
            "ticks": ""
           },
           "bgcolor": "white",
           "caxis": {
            "gridcolor": "#DFE8F3",
            "linecolor": "#A2B1C6",
            "ticks": ""
           }
          },
          "title": {
           "x": 0.05
          },
          "xaxis": {
           "automargin": true,
           "gridcolor": "#EBF0F8",
           "linecolor": "#EBF0F8",
           "ticks": "",
           "title": {
            "standoff": 15
           },
           "zerolinecolor": "#EBF0F8",
           "zerolinewidth": 2
          },
          "yaxis": {
           "automargin": true,
           "gridcolor": "#EBF0F8",
           "linecolor": "#EBF0F8",
           "ticks": "",
           "title": {
            "standoff": 15
           },
           "zerolinecolor": "#EBF0F8",
           "zerolinewidth": 2
          }
         }
        },
        "title": {
         "text": "Yield Curve (Cubic Spline)<br><sup>Coupon-Equivalent Yield (%)</sup>"
        },
        "xaxis": {
         "title": {
          "text": "Maturity (weeks)"
         }
        },
        "yaxis": {
         "dtick": 0.1,
         "range": [
          3.8000000000000003,
          4.5
         ],
         "title": {
          "text": "Coupon Equivalent (%)"
         }
        }
       }
      }
     },
     "metadata": {},
     "output_type": "display_data"
    }
   ],
   "source": [
    "plot_yield_curve_spline(\n",
    "    maturities=maturities,\n",
    "    yields=yields,\n",
    "    title=\"Yield Curve (Cubic Spline)\",\n",
    "    subtitle=\"Coupon-Equivalent Yield (%)\",\n",
    "    n_points=1000,\n",
    "    marker_size=8,\n",
    "    line_width=2,\n",
    "    show_legend=False,\n",
    "    y_buffer=0.05,\n",
    "    y_tick_interval=0.1,\n",
    ")"
   ]
  },
  {
   "cell_type": "markdown",
   "id": "1a8cffbd",
   "metadata": {},
   "source": [
    "## Heatmap of Treasury Yield Spreads"
   ]
  },
  {
   "cell_type": "code",
   "execution_count": 20,
   "id": "4a6c5e14",
   "metadata": {},
   "outputs": [
    {
     "data": {
      "application/vnd.plotly.v1+json": {
       "config": {
        "plotlyServerURL": "https://plot.ly"
       },
       "data": [
        {
         "customdata": {
          "bdata": "cT0K16NwEUBcj8L1KFwRQAAVrkfhepQ/cT0K16NwEUBI4XoUrkcRQIAUrkfheqQ/cT0K16NwEUD2KFyPwvUQQMAehetRuL4/cT0K16NwEUBcj8L1KFwPQDBcj8L1KNw/XI/C9ShcEUBI4XoUrkcRQAAUrkfhepQ/XI/C9ShcEUD2KFyPwvUQQICZmZmZmbk/XI/C9ShcEUDhehSuR+EQQMAehetRuL4/XI/C9ShcEUBcj8L1KFwPQOB6FK5H4do/SOF6FK5HEUD2KFyPwvUQQIAUrkfherQ/SOF6FK5HEUDhehSuR+EQQMCZmZmZmbk/SOF6FK5HEUBcj8L1KFwPQKCZmZmZmdk/9ihcj8L1EEDhehSuR+EQQAAVrkfhepQ/9ihcj8L1EECF61G4HoUQQEBcj8L1KLw/4XoUrkfhEECF61G4HoUQQADXo3A9Crc/",
          "dtype": "f8",
          "shape": "14, 3"
         },
         "hovertemplate": "Shorter: %{customdata[0]:.2f} %<br>Longer: %{customdata[1]:.2f} %<extra></extra>",
         "marker": {
          "cmax": 0.4400000000000004,
          "cmin": 0.019999999999999574,
          "color": {
           "bdata": "ABWuR+F6lD+AFK5H4XqkP8AehetRuL4/MFyPwvUo3D8AFK5H4XqUP4CZmZmZmbk/wB6F61G4vj/gehSuR+HaP4AUrkfherQ/wJmZmZmZuT+gmZmZmZnZPwAVrkfhepQ/QFyPwvUovD8A16NwPQq3Pw==",
           "dtype": "f8"
          },
          "colorscale": [
           [
            0,
            "rgb(103,0,31)"
           ],
           [
            0.1,
            "rgb(178,24,43)"
           ],
           [
            0.2,
            "rgb(214,96,77)"
           ],
           [
            0.3,
            "rgb(244,165,130)"
           ],
           [
            0.4,
            "rgb(253,219,199)"
           ],
           [
            0.5,
            "rgb(247,247,247)"
           ],
           [
            0.6,
            "rgb(209,229,240)"
           ],
           [
            0.7,
            "rgb(146,197,222)"
           ],
           [
            0.8,
            "rgb(67,147,195)"
           ],
           [
            0.9,
            "rgb(33,102,172)"
           ],
           [
            1,
            "rgb(5,48,97)"
           ]
          ],
          "line": {
           "color": "black",
           "width": 1
          },
          "reversescale": true,
          "showscale": false,
          "size": 40
         },
         "mode": "markers+text",
         "showlegend": false,
         "text": [
          "0.02",
          "0.04",
          "0.12",
          "0.44",
          "0.02",
          "0.10",
          "0.12",
          "0.42",
          "0.08",
          "0.10",
          "0.40",
          "0.02",
          "0.11",
          "0.09"
         ],
         "textfont": {
          "color": "white",
          "size": 12
         },
         "textposition": "middle center",
         "type": "scatter",
         "x": {
          "bdata": "AQIDBgIDBAYDBAYEBQU=",
          "dtype": "i1"
         },
         "y": {
          "bdata": "AAAAAAEBAQECAgIDAwQ=",
          "dtype": "i1"
         }
        },
        {
         "customdata": {
          "bdata": "cT0K16NwEUDhehSuR+EQQABSuB6F68E/cT0K16NwEUCF61G4HoUQQIA9CtejcM0/XI/C9ShcEUCF61G4HoUQQOB6FK5H4co/SOF6FK5HEUCF61G4HoUQQGC4HoXrUcg/9ihcj8L1EEBcj8L1KFwPQIAUrkfhetQ/4XoUrkfhEEBcj8L1KFwPQDAzMzMzM9M/hetRuB6FEEBcj8L1KFwPQOB6FK5H4co/",
          "dtype": "f8",
          "shape": "7, 3"
         },
         "hovertemplate": "Shorter: %{customdata[0]:.2f} %<br>Longer: %{customdata[1]:.2f} %<extra></extra>",
         "marker": {
          "cmax": 0.4400000000000004,
          "cmin": 0.019999999999999574,
          "color": {
           "bdata": "AFK4HoXrwT+APQrXo3DNP+B6FK5H4co/YLgehetRyD+AFK5H4XrUPzAzMzMzM9M/4HoUrkfhyj8=",
           "dtype": "f8"
          },
          "colorbar": {
           "title": {
            "text": "% Points"
           }
          },
          "colorscale": [
           [
            0,
            "rgb(103,0,31)"
           ],
           [
            0.1,
            "rgb(178,24,43)"
           ],
           [
            0.2,
            "rgb(214,96,77)"
           ],
           [
            0.3,
            "rgb(244,165,130)"
           ],
           [
            0.4,
            "rgb(253,219,199)"
           ],
           [
            0.5,
            "rgb(247,247,247)"
           ],
           [
            0.6,
            "rgb(209,229,240)"
           ],
           [
            0.7,
            "rgb(146,197,222)"
           ],
           [
            0.8,
            "rgb(67,147,195)"
           ],
           [
            0.9,
            "rgb(33,102,172)"
           ],
           [
            1,
            "rgb(5,48,97)"
           ]
          ],
          "line": {
           "color": "black",
           "width": 1
          },
          "reversescale": true,
          "showscale": true,
          "size": 40
         },
         "mode": "markers+text",
         "showlegend": false,
         "text": [
          "0.14",
          "0.23",
          "0.21",
          "0.19",
          "0.32",
          "0.30",
          "0.21"
         ],
         "textfont": {
          "color": "black",
          "size": 12
         },
         "textposition": "middle center",
         "type": "scatter",
         "x": {
          "bdata": "BAUFBQYGBg==",
          "dtype": "i1"
         },
         "y": {
          "bdata": "AAABAgMEBQ==",
          "dtype": "i1"
         }
        }
       ],
       "layout": {
        "margin": {
         "b": 60,
         "l": 70,
         "r": 20,
         "t": 80
        },
        "plot_bgcolor": "white",
        "template": {
         "data": {
          "bar": [
           {
            "error_x": {
             "color": "#2a3f5f"
            },
            "error_y": {
             "color": "#2a3f5f"
            },
            "marker": {
             "line": {
              "color": "#E5ECF6",
              "width": 0.5
             },
             "pattern": {
              "fillmode": "overlay",
              "size": 10,
              "solidity": 0.2
             }
            },
            "type": "bar"
           }
          ],
          "barpolar": [
           {
            "marker": {
             "line": {
              "color": "#E5ECF6",
              "width": 0.5
             },
             "pattern": {
              "fillmode": "overlay",
              "size": 10,
              "solidity": 0.2
             }
            },
            "type": "barpolar"
           }
          ],
          "carpet": [
           {
            "aaxis": {
             "endlinecolor": "#2a3f5f",
             "gridcolor": "white",
             "linecolor": "white",
             "minorgridcolor": "white",
             "startlinecolor": "#2a3f5f"
            },
            "baxis": {
             "endlinecolor": "#2a3f5f",
             "gridcolor": "white",
             "linecolor": "white",
             "minorgridcolor": "white",
             "startlinecolor": "#2a3f5f"
            },
            "type": "carpet"
           }
          ],
          "choropleth": [
           {
            "colorbar": {
             "outlinewidth": 0,
             "ticks": ""
            },
            "type": "choropleth"
           }
          ],
          "contour": [
           {
            "colorbar": {
             "outlinewidth": 0,
             "ticks": ""
            },
            "colorscale": [
             [
              0,
              "#0d0887"
             ],
             [
              0.1111111111111111,
              "#46039f"
             ],
             [
              0.2222222222222222,
              "#7201a8"
             ],
             [
              0.3333333333333333,
              "#9c179e"
             ],
             [
              0.4444444444444444,
              "#bd3786"
             ],
             [
              0.5555555555555556,
              "#d8576b"
             ],
             [
              0.6666666666666666,
              "#ed7953"
             ],
             [
              0.7777777777777778,
              "#fb9f3a"
             ],
             [
              0.8888888888888888,
              "#fdca26"
             ],
             [
              1,
              "#f0f921"
             ]
            ],
            "type": "contour"
           }
          ],
          "contourcarpet": [
           {
            "colorbar": {
             "outlinewidth": 0,
             "ticks": ""
            },
            "type": "contourcarpet"
           }
          ],
          "heatmap": [
           {
            "colorbar": {
             "outlinewidth": 0,
             "ticks": ""
            },
            "colorscale": [
             [
              0,
              "#0d0887"
             ],
             [
              0.1111111111111111,
              "#46039f"
             ],
             [
              0.2222222222222222,
              "#7201a8"
             ],
             [
              0.3333333333333333,
              "#9c179e"
             ],
             [
              0.4444444444444444,
              "#bd3786"
             ],
             [
              0.5555555555555556,
              "#d8576b"
             ],
             [
              0.6666666666666666,
              "#ed7953"
             ],
             [
              0.7777777777777778,
              "#fb9f3a"
             ],
             [
              0.8888888888888888,
              "#fdca26"
             ],
             [
              1,
              "#f0f921"
             ]
            ],
            "type": "heatmap"
           }
          ],
          "histogram": [
           {
            "marker": {
             "pattern": {
              "fillmode": "overlay",
              "size": 10,
              "solidity": 0.2
             }
            },
            "type": "histogram"
           }
          ],
          "histogram2d": [
           {
            "colorbar": {
             "outlinewidth": 0,
             "ticks": ""
            },
            "colorscale": [
             [
              0,
              "#0d0887"
             ],
             [
              0.1111111111111111,
              "#46039f"
             ],
             [
              0.2222222222222222,
              "#7201a8"
             ],
             [
              0.3333333333333333,
              "#9c179e"
             ],
             [
              0.4444444444444444,
              "#bd3786"
             ],
             [
              0.5555555555555556,
              "#d8576b"
             ],
             [
              0.6666666666666666,
              "#ed7953"
             ],
             [
              0.7777777777777778,
              "#fb9f3a"
             ],
             [
              0.8888888888888888,
              "#fdca26"
             ],
             [
              1,
              "#f0f921"
             ]
            ],
            "type": "histogram2d"
           }
          ],
          "histogram2dcontour": [
           {
            "colorbar": {
             "outlinewidth": 0,
             "ticks": ""
            },
            "colorscale": [
             [
              0,
              "#0d0887"
             ],
             [
              0.1111111111111111,
              "#46039f"
             ],
             [
              0.2222222222222222,
              "#7201a8"
             ],
             [
              0.3333333333333333,
              "#9c179e"
             ],
             [
              0.4444444444444444,
              "#bd3786"
             ],
             [
              0.5555555555555556,
              "#d8576b"
             ],
             [
              0.6666666666666666,
              "#ed7953"
             ],
             [
              0.7777777777777778,
              "#fb9f3a"
             ],
             [
              0.8888888888888888,
              "#fdca26"
             ],
             [
              1,
              "#f0f921"
             ]
            ],
            "type": "histogram2dcontour"
           }
          ],
          "mesh3d": [
           {
            "colorbar": {
             "outlinewidth": 0,
             "ticks": ""
            },
            "type": "mesh3d"
           }
          ],
          "parcoords": [
           {
            "line": {
             "colorbar": {
              "outlinewidth": 0,
              "ticks": ""
             }
            },
            "type": "parcoords"
           }
          ],
          "pie": [
           {
            "automargin": true,
            "type": "pie"
           }
          ],
          "scatter": [
           {
            "fillpattern": {
             "fillmode": "overlay",
             "size": 10,
             "solidity": 0.2
            },
            "type": "scatter"
           }
          ],
          "scatter3d": [
           {
            "line": {
             "colorbar": {
              "outlinewidth": 0,
              "ticks": ""
             }
            },
            "marker": {
             "colorbar": {
              "outlinewidth": 0,
              "ticks": ""
             }
            },
            "type": "scatter3d"
           }
          ],
          "scattercarpet": [
           {
            "marker": {
             "colorbar": {
              "outlinewidth": 0,
              "ticks": ""
             }
            },
            "type": "scattercarpet"
           }
          ],
          "scattergeo": [
           {
            "marker": {
             "colorbar": {
              "outlinewidth": 0,
              "ticks": ""
             }
            },
            "type": "scattergeo"
           }
          ],
          "scattergl": [
           {
            "marker": {
             "colorbar": {
              "outlinewidth": 0,
              "ticks": ""
             }
            },
            "type": "scattergl"
           }
          ],
          "scattermap": [
           {
            "marker": {
             "colorbar": {
              "outlinewidth": 0,
              "ticks": ""
             }
            },
            "type": "scattermap"
           }
          ],
          "scattermapbox": [
           {
            "marker": {
             "colorbar": {
              "outlinewidth": 0,
              "ticks": ""
             }
            },
            "type": "scattermapbox"
           }
          ],
          "scatterpolar": [
           {
            "marker": {
             "colorbar": {
              "outlinewidth": 0,
              "ticks": ""
             }
            },
            "type": "scatterpolar"
           }
          ],
          "scatterpolargl": [
           {
            "marker": {
             "colorbar": {
              "outlinewidth": 0,
              "ticks": ""
             }
            },
            "type": "scatterpolargl"
           }
          ],
          "scatterternary": [
           {
            "marker": {
             "colorbar": {
              "outlinewidth": 0,
              "ticks": ""
             }
            },
            "type": "scatterternary"
           }
          ],
          "surface": [
           {
            "colorbar": {
             "outlinewidth": 0,
             "ticks": ""
            },
            "colorscale": [
             [
              0,
              "#0d0887"
             ],
             [
              0.1111111111111111,
              "#46039f"
             ],
             [
              0.2222222222222222,
              "#7201a8"
             ],
             [
              0.3333333333333333,
              "#9c179e"
             ],
             [
              0.4444444444444444,
              "#bd3786"
             ],
             [
              0.5555555555555556,
              "#d8576b"
             ],
             [
              0.6666666666666666,
              "#ed7953"
             ],
             [
              0.7777777777777778,
              "#fb9f3a"
             ],
             [
              0.8888888888888888,
              "#fdca26"
             ],
             [
              1,
              "#f0f921"
             ]
            ],
            "type": "surface"
           }
          ],
          "table": [
           {
            "cells": {
             "fill": {
              "color": "#EBF0F8"
             },
             "line": {
              "color": "white"
             }
            },
            "header": {
             "fill": {
              "color": "#C8D4E3"
             },
             "line": {
              "color": "white"
             }
            },
            "type": "table"
           }
          ]
         },
         "layout": {
          "annotationdefaults": {
           "arrowcolor": "#2a3f5f",
           "arrowhead": 0,
           "arrowwidth": 1
          },
          "autotypenumbers": "strict",
          "coloraxis": {
           "colorbar": {
            "outlinewidth": 0,
            "ticks": ""
           }
          },
          "colorscale": {
           "diverging": [
            [
             0,
             "#8e0152"
            ],
            [
             0.1,
             "#c51b7d"
            ],
            [
             0.2,
             "#de77ae"
            ],
            [
             0.3,
             "#f1b6da"
            ],
            [
             0.4,
             "#fde0ef"
            ],
            [
             0.5,
             "#f7f7f7"
            ],
            [
             0.6,
             "#e6f5d0"
            ],
            [
             0.7,
             "#b8e186"
            ],
            [
             0.8,
             "#7fbc41"
            ],
            [
             0.9,
             "#4d9221"
            ],
            [
             1,
             "#276419"
            ]
           ],
           "sequential": [
            [
             0,
             "#0d0887"
            ],
            [
             0.1111111111111111,
             "#46039f"
            ],
            [
             0.2222222222222222,
             "#7201a8"
            ],
            [
             0.3333333333333333,
             "#9c179e"
            ],
            [
             0.4444444444444444,
             "#bd3786"
            ],
            [
             0.5555555555555556,
             "#d8576b"
            ],
            [
             0.6666666666666666,
             "#ed7953"
            ],
            [
             0.7777777777777778,
             "#fb9f3a"
            ],
            [
             0.8888888888888888,
             "#fdca26"
            ],
            [
             1,
             "#f0f921"
            ]
           ],
           "sequentialminus": [
            [
             0,
             "#0d0887"
            ],
            [
             0.1111111111111111,
             "#46039f"
            ],
            [
             0.2222222222222222,
             "#7201a8"
            ],
            [
             0.3333333333333333,
             "#9c179e"
            ],
            [
             0.4444444444444444,
             "#bd3786"
            ],
            [
             0.5555555555555556,
             "#d8576b"
            ],
            [
             0.6666666666666666,
             "#ed7953"
            ],
            [
             0.7777777777777778,
             "#fb9f3a"
            ],
            [
             0.8888888888888888,
             "#fdca26"
            ],
            [
             1,
             "#f0f921"
            ]
           ]
          },
          "colorway": [
           "#636efa",
           "#EF553B",
           "#00cc96",
           "#ab63fa",
           "#FFA15A",
           "#19d3f3",
           "#FF6692",
           "#B6E880",
           "#FF97FF",
           "#FECB52"
          ],
          "font": {
           "color": "#2a3f5f"
          },
          "geo": {
           "bgcolor": "white",
           "lakecolor": "white",
           "landcolor": "#E5ECF6",
           "showlakes": true,
           "showland": true,
           "subunitcolor": "white"
          },
          "hoverlabel": {
           "align": "left"
          },
          "hovermode": "closest",
          "mapbox": {
           "style": "light"
          },
          "paper_bgcolor": "white",
          "plot_bgcolor": "#E5ECF6",
          "polar": {
           "angularaxis": {
            "gridcolor": "white",
            "linecolor": "white",
            "ticks": ""
           },
           "bgcolor": "#E5ECF6",
           "radialaxis": {
            "gridcolor": "white",
            "linecolor": "white",
            "ticks": ""
           }
          },
          "scene": {
           "xaxis": {
            "backgroundcolor": "#E5ECF6",
            "gridcolor": "white",
            "gridwidth": 2,
            "linecolor": "white",
            "showbackground": true,
            "ticks": "",
            "zerolinecolor": "white"
           },
           "yaxis": {
            "backgroundcolor": "#E5ECF6",
            "gridcolor": "white",
            "gridwidth": 2,
            "linecolor": "white",
            "showbackground": true,
            "ticks": "",
            "zerolinecolor": "white"
           },
           "zaxis": {
            "backgroundcolor": "#E5ECF6",
            "gridcolor": "white",
            "gridwidth": 2,
            "linecolor": "white",
            "showbackground": true,
            "ticks": "",
            "zerolinecolor": "white"
           }
          },
          "shapedefaults": {
           "line": {
            "color": "#2a3f5f"
           }
          },
          "ternary": {
           "aaxis": {
            "gridcolor": "white",
            "linecolor": "white",
            "ticks": ""
           },
           "baxis": {
            "gridcolor": "white",
            "linecolor": "white",
            "ticks": ""
           },
           "bgcolor": "#E5ECF6",
           "caxis": {
            "gridcolor": "white",
            "linecolor": "white",
            "ticks": ""
           }
          },
          "title": {
           "x": 0.05
          },
          "xaxis": {
           "automargin": true,
           "gridcolor": "white",
           "linecolor": "white",
           "ticks": "",
           "title": {
            "standoff": 15
           },
           "zerolinecolor": "white",
           "zerolinewidth": 2
          },
          "yaxis": {
           "automargin": true,
           "gridcolor": "white",
           "linecolor": "white",
           "ticks": "",
           "title": {
            "standoff": 15
           },
           "zerolinecolor": "white",
           "zerolinewidth": 2
          }
         }
        },
        "title": {
         "text": "Yield Spreads<br><sup>Spread = Shorter % − Longer % (Percentage Points)</sup>"
        },
        "xaxis": {
         "tickmode": "array",
         "ticktext": [
          "4w",
          "6w",
          "8w",
          "13w",
          "17w",
          "26w",
          "52w"
         ],
         "tickvals": [
          0,
          1,
          2,
          3,
          4,
          5,
          6
         ],
         "title": {
          "text": "Longer Maturity (weeks)"
         }
        },
        "yaxis": {
         "autorange": "reversed",
         "tickmode": "array",
         "ticktext": [
          "4w",
          "6w",
          "8w",
          "13w",
          "17w",
          "26w",
          "52w"
         ],
         "tickvals": [
          0,
          1,
          2,
          3,
          4,
          5,
          6
         ],
         "title": {
          "text": "Shorter Maturity (weeks)"
         }
        }
       }
      }
     },
     "metadata": {},
     "output_type": "display_data"
    }
   ],
   "source": [
    "plot_spreads_heatmap(\n",
    "    maturities=maturities,\n",
    "    yields=yields,\n",
    "    title=\"Yield Spreads\",\n",
    "    subtitle=\"Spread = Shorter % − Longer % (Percentage Points)\",\n",
    "    colorscale=\"RdBu\",\n",
    "    marker_size=40,\n",
    "    text_size=12,\n",
    "    show_values=True,\n",
    ")"
   ]
  }
 ],
 "metadata": {
  "kernelspec": {
   "display_name": "tbills-scraper",
   "language": "python",
   "name": "python3"
  },
  "language_info": {
   "codemirror_mode": {
    "name": "ipython",
    "version": 3
   },
   "file_extension": ".py",
   "mimetype": "text/x-python",
   "name": "python",
   "nbconvert_exporter": "python",
   "pygments_lexer": "ipython3",
   "version": "3.12.6"
  }
 },
 "nbformat": 4,
 "nbformat_minor": 5
}
