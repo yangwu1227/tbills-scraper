{
 "cells": [
  {
   "cell_type": "code",
   "execution_count": 21,
   "id": "952391fa",
   "metadata": {},
   "outputs": [],
   "source": [
    "import sympy as sp\n",
    "from IPython.display import display"
   ]
  },
  {
   "cell_type": "markdown",
   "id": "1006f1f4",
   "metadata": {},
   "source": [
    "## Break-even CEY with integer rolls and a self-consistent stub\n",
    "\n",
    "### 1. Definitions and notation\n",
    "\n",
    "We use **coupon-equivalent yields (CEY)** on a 365-day basis. The short leg invests at an unknown break-even CEY $y_{\\mathrm{be}}$ (decimal), and the “longer” leg invests at its observed CEY $y_{\\text{long}}$ (decimal). Tenors are expressed in days.\n",
    "\n",
    "* $y_{\\mathrm{be}}$: unknown break-even CEY (decimal)\n",
    "* $y_{\\text{long}}$: observed CEY (decimal) of the longer tenor\n",
    "* $m_{\\text{short}}$: short tenor in days\n",
    "* $m_{\\text{long}}$: long tenor in days\n",
    "* $H$: common horizon in days (e.g., $364$ or $365$)\n",
    "* $k_{\\text{short}}=\\left\\lfloor \\dfrac{H}{m_{\\text{short}}} \\right\\rfloor$, $\\;\\;r_{\\text{short}}=H-k_{\\text{short}}m_{\\text{short}}$\n",
    "* $k_{\\text{long}}=\\left\\lfloor \\dfrac{H}{m_{\\text{long}}} \\right\\rfloor$, $\\;\\;r_{\\text{long}}=H-k_{\\text{long}}m_{\\text{long}}$\n",
    "* $\\text{dc}$: day-count base for CEY (typically $\\text{dc}=365$)\n",
    "\n",
    "The **holding-period return (HPR)** over $d$ days at CEY $y$ is $y \\cdot \\dfrac{d}{\\text{dc}}$. With integer rolls, we compound by multiplying gross returns of full rolls and a final stub."
   ]
  },
  {
   "cell_type": "code",
   "execution_count": 38,
   "id": "a46b08d3",
   "metadata": {},
   "outputs": [
    {
     "data": {
      "text/latex": [
       "$\\displaystyle \\left( y_{be}, \\  y_{long}, \\  m_{short}, \\  m_{long}, \\  horizon_{days}, \\  k_{short}, \\  r_{short}, \\  k_{long}, \\  r_{long}, \\  dc\\right)$"
      ],
      "text/plain": [
       "(y_{be}, y_{long}, m_{short}, m_{long}, horizon_{days}, k_{short}, r_{short},  ↪\n",
       "\n",
       "↪ k_{long}, r_{long}, dc)"
      ]
     },
     "execution_count": 38,
     "metadata": {},
     "output_type": "execute_result"
    }
   ],
   "source": [
    "# Unknown break-even coupon-equivalent yield (decimal)\n",
    "y_be_sym: sp.Symbol = sp.symbols(\"y_{be}\", real=True)\n",
    "\n",
    "# Observed coupon-equivalent yield (decimal) for the \"longer\" tenor\n",
    "y_long_sym: sp.Symbol = sp.symbols(\"y_{long}\", positive=True)\n",
    "\n",
    "# Short and long tenors in days\n",
    "m_short_days_sym: sp.Symbol = sp.symbols(\"m_{short}\", positive=True)\n",
    "m_long_days_sym: sp.Symbol = sp.symbols(\"m_{long}\", positive=True)\n",
    "\n",
    "# Common investment horizon in days\n",
    "horizon_days_sym: sp.Symbol = sp.symbols(\"horizon_{days}\", positive=True)\n",
    "\n",
    "# Integer number of full rolls and stub days for short and long tenors\n",
    "k_short_sym: sp.Symbol = sp.symbols(\"k_{short}\", integer=True, positive=True)\n",
    "r_short_sym: sp.Symbol = sp.symbols(\"r_{short}\", nonnegative=True)\n",
    "k_long_sym: sp.Symbol = sp.symbols(\"k_{long}\", integer=True, positive=True)\n",
    "r_long_sym: sp.Symbol = sp.symbols(\"r_{long}\", nonnegative=True)\n",
    "\n",
    "# Day-count base for CEY (365 by default)\n",
    "day_count_base_sym: sp.Symbol = sp.symbols(\"dc\", positive=True)\n",
    "\n",
    "(\n",
    "    y_be_sym,\n",
    "    y_long_sym,\n",
    "    m_short_days_sym,\n",
    "    m_long_days_sym,\n",
    "    horizon_days_sym,\n",
    "    k_short_sym,\n",
    "    r_short_sym,\n",
    "    k_long_sym,\n",
    "    r_long_sym,\n",
    "    day_count_base_sym,\n",
    ")"
   ]
  },
  {
   "cell_type": "markdown",
   "id": "daba857c",
   "metadata": {},
   "source": [
    "\n",
    "### 2. Accumulation factors\n",
    "\n",
    "**Short side (unknown $y_{\\mathrm{be}}$)**:\n",
    "\n",
    "$$\n",
    "\\underbrace{\\left(1+\\frac{y_{\\mathrm{be}}\\,m_{\\text{short}}}{\\text{dc}}\\right)^{k_{\\text{short}}}}_{\\text{full rolls}}\n",
    "\\;\\times\\;\n",
    "\\underbrace{\\left(1+\\frac{y_{\\mathrm{be}}\\,r_{\\text{short}}}{\\text{dc}}\\right)}_{\\text{stub}}\n",
    "$$\n",
    "\n",
    "**Long side (observed $y_{\\text{long}}$)**:\n",
    "\n",
    "$$\n",
    "\\underbrace{\\left(1+\\frac{y_{\\text{long}}\\,m_{\\text{long}}}{\\text{dc}}\\right)^{k_{\\text{long}}}}_{\\text{full rolls}}\n",
    "\\;\\times\\;\n",
    "\\underbrace{\\left(1+\\frac{y_{\\text{long}}\\,r_{\\text{long}}}{\\text{dc}}\\right)}_{\\text{stub}}\n",
    "$$\n",
    "\n",
    "These are exactly the two SymPy expressions:"
   ]
  },
  {
   "cell_type": "code",
   "execution_count": 39,
   "id": "b66f3e85",
   "metadata": {},
   "outputs": [
    {
     "data": {
      "text/latex": [
       "$\\displaystyle \\left(1 + \\frac{m_{short} y_{be}}{dc}\\right)^{k_{short}} \\left(1 + \\frac{r_{short} y_{be}}{dc}\\right)$"
      ],
      "text/plain": [
       "                      k_{short}                       \n",
       "⎛    m_{short}⋅y_{be}⎞          ⎛    r_{short}⋅y_{be}⎞\n",
       "⎜1 + ────────────────⎟         ⋅⎜1 + ────────────────⎟\n",
       "⎝           dc       ⎠          ⎝           dc       ⎠"
      ]
     },
     "metadata": {},
     "output_type": "display_data"
    },
    {
     "data": {
      "text/latex": [
       "$\\displaystyle \\left(1 + \\frac{m_{long} y_{long}}{dc}\\right)^{k_{long}} \\left(1 + \\frac{r_{long} y_{long}}{dc}\\right)$"
      ],
      "text/plain": [
       "                       k_{long}                        \n",
       "⎛    m_{long}⋅y_{long}⎞         ⎛    r_{long}⋅y_{long}⎞\n",
       "⎜1 + ─────────────────⎟        ⋅⎜1 + ─────────────────⎟\n",
       "⎝           dc        ⎠         ⎝           dc        ⎠"
      ]
     },
     "metadata": {},
     "output_type": "display_data"
    }
   ],
   "source": [
    "# Accumulation factors using integer rolls + stub\n",
    "accumulation_short_sym: sp.Expr = (\n",
    "    1 + y_be_sym * m_short_days_sym / day_count_base_sym\n",
    ") ** k_short_sym * (1 + y_be_sym * r_short_sym / day_count_base_sym)\n",
    "\n",
    "accumulation_long_sym: sp.Expr = (\n",
    "    1 + y_long_sym * m_long_days_sym / day_count_base_sym\n",
    ") ** k_long_sym * (1 + y_long_sym * r_long_sym / day_count_base_sym)\n",
    "\n",
    "display(accumulation_short_sym, accumulation_long_sym)"
   ]
  },
  {
   "cell_type": "markdown",
   "id": "aadcb9f4",
   "metadata": {},
   "source": [
    "### 3. Break-even identity\n",
    "\n",
    "By definition, the break-even CEY $y_{\\mathrm{be}}$ makes the two accumulation factors equal:\n",
    "\n",
    "$$\n",
    "\\boxed{\\;\n",
    "\\left(1+\\frac{y_{\\mathrm{be}}\\,m_{\\text{short}}}{\\text{dc}}\\right)^{k_{\\text{short}}}\n",
    "\\left(1+\\frac{y_{\\mathrm{be}}\\,r_{\\text{short}}}{\\text{dc}}\\right)\n",
    "=\n",
    "\\left(1+\\frac{y_{\\text{long}}\\,m_{\\text{long}}}{\\text{dc}}\\right)^{k_{\\text{long}}}\n",
    "\\left(1+\\frac{y_{\\text{long}}\\,r_{\\text{long}}}{\\text{dc}}\\right)\n",
    "\\; } \\tag{★}\n",
    "$$\n",
    "\n",
    "This is the SymPy equation `identity_break_even_sym = Eq(accumulation_short_sym, accumulation_long_sym)`."
   ]
  },
  {
   "cell_type": "code",
   "execution_count": 41,
   "id": "fd8e67f3",
   "metadata": {},
   "outputs": [
    {
     "data": {
      "text/latex": [
       "$\\displaystyle \\left(1 + \\frac{m_{short} y_{be}}{dc}\\right)^{k_{short}} \\left(1 + \\frac{r_{short} y_{be}}{dc}\\right) = \\left(1 + \\frac{m_{long} y_{long}}{dc}\\right)^{k_{long}} \\left(1 + \\frac{r_{long} y_{long}}{dc}\\right)$"
      ],
      "text/plain": [
       "                      k_{short}                                                ↪\n",
       "⎛    m_{short}⋅y_{be}⎞          ⎛    r_{short}⋅y_{be}⎞   ⎛    m_{long}⋅y_{long ↪\n",
       "⎜1 + ────────────────⎟         ⋅⎜1 + ────────────────⎟ = ⎜1 + ──────────────── ↪\n",
       "⎝           dc       ⎠          ⎝           dc       ⎠   ⎝           dc        ↪\n",
       "\n",
       "↪   k_{long}                        \n",
       "↪ }⎞         ⎛    r_{long}⋅y_{long}⎞\n",
       "↪ ─⎟        ⋅⎜1 + ─────────────────⎟\n",
       "↪  ⎠         ⎝           dc        ⎠"
      ]
     },
     "metadata": {},
     "output_type": "display_data"
    }
   ],
   "source": [
    "identity_break_even_sym: sp.Eq = sp.Eq(accumulation_short_sym, accumulation_long_sym)\n",
    "\n",
    "display(identity_break_even_sym)"
   ]
  },
  {
   "cell_type": "markdown",
   "id": "7a7b5634",
   "metadata": {},
   "source": [
    "Equivalently, bring everything to one side to get a scalar root-finding problem:\n",
    "\n",
    "$$\n",
    "f\\!\\left(y_{\\mathrm{be}}\\right)\n",
    "=\n",
    "\\left(1+\\frac{y_{\\mathrm{be}}\\,m_{\\text{short}}}{\\text{dc}}\\right)^{k_{\\text{short}}}\n",
    "\\left(1+\\frac{y_{\\mathrm{be}}\\,r_{\\text{short}}}{\\text{dc}}\\right)\n",
    "-\n",
    "\\left(1+\\frac{y_{\\text{long}}\\,m_{\\text{long}}}{\\text{dc}}\\right)^{k_{\\text{long}}}\n",
    "\\left(1+\\frac{y_{\\text{long}}\\,r_{\\text{long}}}{\\text{dc}}\\right)\n",
    "=0\n",
    "$$\n",
    "\n",
    "In SymPy, this is `f_general_sym = expand(accumulation_short_sym - accumulation_long_sym)`:"
   ]
  },
  {
   "cell_type": "code",
   "execution_count": 49,
   "id": "ef76f9ac",
   "metadata": {},
   "outputs": [
    {
     "data": {
      "text/latex": [
       "$\\displaystyle - \\left(1 + \\frac{m_{long} y_{long}}{dc}\\right)^{k_{long}} + \\left(1 + \\frac{m_{short} y_{be}}{dc}\\right)^{k_{short}} - \\frac{r_{long} y_{long} \\left(1 + \\frac{m_{long} y_{long}}{dc}\\right)^{k_{long}}}{dc} + \\frac{r_{short} y_{be} \\left(1 + \\frac{m_{short} y_{be}}{dc}\\right)^{k_{short}}}{dc}$"
      ],
      "text/plain": [
       "                                                                               ↪\n",
       "                                                                               ↪\n",
       "                         k_{long}                         k_{short}   r_{long} ↪\n",
       "  ⎛    m_{long}⋅y_{long}⎞           ⎛    m_{short}⋅y_{be}⎞                     ↪\n",
       "- ⎜1 + ─────────────────⎟         + ⎜1 + ────────────────⎟          - ──────── ↪\n",
       "  ⎝           dc        ⎠           ⎝           dc       ⎠                     ↪\n",
       "\n",
       "↪                                  k_{long}                                    ↪\n",
       "↪           ⎛    m_{long}⋅y_{long}⎞                            ⎛    m_{short}⋅ ↪\n",
       "↪ ⋅y_{long}⋅⎜1 + ─────────────────⎟           r_{short}⋅y_{be}⋅⎜1 + ────────── ↪\n",
       "↪           ⎝           dc        ⎠                            ⎝           dc  ↪\n",
       "↪ ───────────────────────────────────────── + ──────────────────────────────── ↪\n",
       "↪                dc                                                  dc        ↪\n",
       "\n",
       "↪        k_{short}\n",
       "↪ y_{be}⎞         \n",
       "↪ ──────⎟         \n",
       "↪       ⎠         \n",
       "↪ ────────────────\n",
       "↪                 "
      ]
     },
     "metadata": {},
     "output_type": "display_data"
    }
   ],
   "source": [
    "f_general_sym: sp.Expr = sp.expand(accumulation_short_sym - accumulation_long_sym)\n",
    "\n",
    "display(f_general_sym)"
   ]
  },
  {
   "cell_type": "markdown",
   "id": "70faace6",
   "metadata": {},
   "source": [
    "### 4. Closed form when the short stub is zero $(r_{\\text{short}}=0)$\n",
    "\n",
    "If the short tenor divides the horizon exactly (no stub), $r_{\\text{short}}=0$ and the break-even identity simplifies to:\n",
    "\n",
    "$$\n",
    "\\left(1+\\frac{y_{\\mathrm{be}}\\,m_{\\text{short}}}{\\text{dc}}\\right)^{k_{\\text{short}}}\n",
    "=\n",
    "\\left(1+\\frac{y_{\\text{long}}\\,m_{\\text{long}}}{\\text{dc}}\\right)^{k_{\\text{long}}}\n",
    "\\left(1+\\frac{y_{\\text{long}}\\,r_{\\text{long}}}{\\text{dc}}\\right)\n",
    "$$\n",
    "\n",
    "This is exactly what SymPy returns in the object `y_be_closed_form_if_no_short_stub_sym`:"
   ]
  },
  {
   "cell_type": "code",
   "execution_count": 61,
   "id": "409d74e8",
   "metadata": {},
   "outputs": [
    {
     "data": {
      "text/latex": [
       "$\\displaystyle \\frac{- dc + \\left(dc^{- k_{long} + k_{short} - 1} \\left(dc + m_{long} y_{long}\\right)^{k_{long}} \\left(dc + r_{long} y_{long}\\right)\\right)^{\\frac{1}{k_{short}}}}{m_{short}}$"
      ],
      "text/plain": [
       "                ______________________________________________________________ ↪\n",
       "      k_{short}╱   -k_{long} + k_{short} - 1                         k_{long}  ↪\n",
       "-dc +        ╲╱  dc                         ⋅(dc + m_{long}⋅y_{long})        ⋅ ↪\n",
       "────────────────────────────────────────────────────────────────────────────── ↪\n",
       "                                               m_{short}                       ↪\n",
       "\n",
       "↪ _________________________\n",
       "↪                          \n",
       "↪ (dc + r_{long}⋅y_{long}) \n",
       "↪ ─────────────────────────\n",
       "↪                          "
      ]
     },
     "metadata": {},
     "output_type": "display_data"
    }
   ],
   "source": [
    "eq_closed_form: sp.Eq = sp.Eq(\n",
    "    (1 + y_be_sym * m_short_days_sym / day_count_base_sym) ** k_short_sym,\n",
    "    accumulation_long_sym,\n",
    ")\n",
    "\n",
    "y_be_closed_form_if_no_short_stub_sym: sp.Expr = sp.solve(eq_closed_form, y_be_sym)[0]\n",
    "\n",
    "display(y_be_closed_form_if_no_short_stub_sym)"
   ]
  },
  {
   "cell_type": "markdown",
   "id": "5172f773",
   "metadata": {},
   "source": [
    "### 5. Why the general case $(r_{\\text{short}}>0)$ has no simple closed form\n",
    "\n",
    "When $r_{\\text{short}}>0$, the left-hand side of the breakeven-identity is a **product** of a $k_{\\text{short}}$-th power and a first-degree factor in $y_{\\mathrm{be}}$:\n",
    "\n",
    "$$\n",
    "\\left(1+\\alpha\\,y_{\\mathrm{be}}\\right)^{k_{\\text{short}}}\\left(1+\\beta\\,y_{\\mathrm{be}}\\right),\n",
    "\\quad\n",
    "\\alpha=\\frac{m_{\\text{short}}}{\\text{dc}},\\;\n",
    "\\beta=\\frac{r_{\\text{short}}}{\\text{dc}}.\n",
    "$$\n",
    "\n",
    "That is why the practical approach is:\n",
    "\n",
    "1. Compute the right-hand side (the long tenor’s accumulation factor) once given:\n",
    "\n",
    "   $$\n",
    "   \\text{RHS} \\;=\\;\n",
    "   \\left(1+\\frac{y_{\\text{long}}\\,m_{\\text{long}}}{365}\\right)^{k_{\\text{long}}}\n",
    "   \\left(1+\\frac{y_{\\text{long}}\\,r_{\\text{long}}}{365}\\right)\n",
    "   $$\n",
    "\n",
    "   with $k_{\\text{short}}=\\lfloor H/m_{\\text{short}}\\rfloor$, $r_{\\text{short}}=H-k_{\\text{short}}m_{\\text{short}}>0$\n",
    "\n",
    "2. Solve $f(y_{\\mathrm{be}})=0$ with a robust numeric method (e.g., `sympy.nsolve`):\n",
    "\n",
    "   $$\n",
    "   f(y_{\\mathrm{be}})=\n",
    "   \\left(1+\\frac{y_{\\mathrm{be}}\\,m_{\\text{short}}}{365}\\right)^{k_{\\text{short}}}\n",
    "   \\left(1+\\frac{y_{\\mathrm{be}}\\,r_{\\text{short}}}{365}\\right)\n",
    "   -\\text{RHS}.\n",
    "   $$\n",
    "\n",
    "   Because the LHS is a product of a $k_{\\text{short}}$-th power and a linear factor in $y_{\\mathrm{be}}$, expanding gives a polynomial of degree $k_{\\text{short}} + 1$. For $k_{\\text{short}}\\ge 2$ there is no general elementary closed form, so we use a numeric root (e.g., `sympy.nsolve`). The initial guess is obtained from the fractional-roll approximation; the idea is to **replace** the short leg’s integer-rolls-plus-stub structure by a **single fractional number of periods** over the same horizon $H$. Concretely, approximate\n",
    "\n",
    "   $$\n",
    "   k_{\\text{short}} \\text{ full rolls of length } m_{\\text{short}} \\text{ plus a stub of } r_{\\text{short}}\n",
    "\n",
    "   \\quad \\leadsto \\quad\n",
    "\n",
    "   \\frac{H}{m_{\\text{short}}} \\text{ equal “fractional” rolls of length } \\quad m_{\\text{short}}\n",
    "   $$\n",
    "\n",
    "   That is, we replace\n",
    "\n",
    "   $$\n",
    "   \\left(1+\\frac{y_{\\mathrm{be}}\\,m_{\\text{short}}}{\\text{dc}}\\right)^{k_{\\text{short}}}\n",
    "   \\left(1+\\frac{y_{\\mathrm{be}}\\,r_{\\text{short}}}{\\text{dc}}\\right)\n",
    "   \\quad\\approx\\quad\n",
    "   \\left(1+\\frac{y_{\\mathrm{be}}\\,m_{\\text{short}}}{\\text{dc}}\\right)^{H/m_{\\text{short}}}\n",
    "   $$\n",
    "\n",
    "   Some justifications for this approximation:\n",
    "\n",
    "      * The exact left side can be seen as compounding $k_{\\text{short}}$ full “blocks” and one **partial** block of length $r_{\\text{short}}$.\n",
    "      * The approximation simply **turns the partial block into a fractional exponent**: $k_{\\text{short}} + r_{\\text{short}}/m_{\\text{short}} = H/m_{\\text{short}}$.\n",
    "      * If $r_{\\text{short}}=0$ (i.e., the short tenor divides the horizon), the approximation is **exact**.\n",
    "      * If $r_{\\text{short}}$ is small relative to $m_{\\text{short}}$, the approximation error is small; even when it’s not small, this produces a seed **very close** to the true root because $f(y)$ is smooth and strictly increasing in any realistic range (both factors increase in $y$).\n",
    "\n",
    "   Set the **fractional-roll** approximation equal to RHS and solve for $y_{\\mathrm{be}}$:\n",
    "\n",
    "   $$\n",
    "   \\left(1+\\frac{y_{\\mathrm{be}}^{(0)}\\,m_{\\text{short}}}{\\text{dc}}\\right)^{H/m_{\\text{short}}}\n",
    "   =\n",
    "   \\text{RHS}\n",
    "   $$\n",
    "\n",
    "   Raise both sides to the power $m_{\\text{short}}/H$:\n",
    "\n",
    "   $$\n",
    "   1+\\frac{y_{\\mathrm{be}}^{(0)}\\,m_{\\text{short}}}{\\text{dc}}\n",
    "   =\n",
    "   \\text{RHS}^{\\,m_{\\text{short}}/H}\n",
    "   $$\n",
    "\n",
    "   Isolate $y_{\\mathrm{be}}^{(0)}$:\n",
    "\n",
    "   $$\n",
    "   \\boxed{\\;\n",
    "   y_{\\mathrm{be}}^{(0)}\n",
    "   =\n",
    "   \\left(\\text{RHS}^{\\,m_{\\text{short}}/H}-1\\right)\\frac{\\text{dc}}{m_{\\text{short}}}\n",
    "   \\;}\n",
    "   $$\n",
    "\n",
    "   This is exactly the seed we pass to `sympy.nsolve`.\n"
   ]
  },
  {
   "cell_type": "markdown",
   "id": "aa46649d",
   "metadata": {},
   "source": [
    "### 6. Interpretation\n",
    "\n",
    "* If the **realized** CEY on each short roll equals the solved $y_{\\mathrm{be}}$, then after compounding integer rolls plus the stub, we match the long tenor’s compounded return to the same horizon.\n",
    "* If future short CEY realizations average **above** $y_{\\mathrm{be}}$ (in the geometric sense), rolling the short bills wins; if **below**, rolling the long tenor wins."
   ]
  }
 ],
 "metadata": {
  "kernelspec": {
   "display_name": "tbills-scraper",
   "language": "python",
   "name": "python3"
  },
  "language_info": {
   "codemirror_mode": {
    "name": "ipython",
    "version": 3
   },
   "file_extension": ".py",
   "mimetype": "text/x-python",
   "name": "python",
   "nbconvert_exporter": "python",
   "pygments_lexer": "ipython3",
   "version": "3.12.6"
  }
 },
 "nbformat": 4,
 "nbformat_minor": 5
}
